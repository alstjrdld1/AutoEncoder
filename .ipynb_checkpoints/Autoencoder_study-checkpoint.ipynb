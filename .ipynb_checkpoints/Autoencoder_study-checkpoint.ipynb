{
 "cells": [
  {
   "cell_type": "code",
   "execution_count": 2,
   "id": "402dad9e",
   "metadata": {},
   "outputs": [],
   "source": [
    "####################### LIBRARIES ####################################\n",
    "import torch \n",
    "import torch.nn as nn \n",
    "import torch.nn.functional as F \n",
    "import torch.optim as optim \n",
    "\n",
    "from torchvision import datasets, transforms \n",
    "import torchvision.models as models \n",
    "\n",
    "import numpy as np \n",
    "from random import sample \n",
    "import matplotlib.pyplot as plt "
   ]
  },
  {
   "cell_type": "code",
   "execution_count": 5,
   "id": "17ec81e9",
   "metadata": {},
   "outputs": [],
   "source": [
    "train_dataset = datasets.MNIST(root='./data', train=True, transform = transforms.ToTensor(), download = True)\n",
    "test_dataset = datasets.MNIST(root='./data' , train=False, transform = transforms.ToTensor())\n",
    "\n",
    "total_dataset = torch.utils.data.ConcatDataset([train_dataset, test_dataset])\n",
    "\n",
    "normal_dataset = sample([total_dataset.__getitem__(idx) \n",
    "                         for idx in range(len(total_dataset))\n",
    "                          if total_dataset.__getitem__(idx)[1] == 5], 6000)\n",
    "batch_size = 512\n",
    "\n",
    "train_loader = torch.utils.data.DataLoader(dataset = train_dataset, batch_size = batch_size, shuffle=True)\n",
    "test_loader = torch.utils.data.DataLoader(dataset = test_dataset, batch_size = batch_size, shuffle=False)"
   ]
  },
  {
   "cell_type": "code",
   "execution_count": 6,
   "id": "54315efb",
   "metadata": {},
   "outputs": [],
   "source": [
    "class AutoEncoder(nn.Module):\n",
    "    def __init__(self, input_dim, hidden_dim1, hidden_dim2):\n",
    "        super(AutoEncoder, self).__init__()\n",
    "        \n",
    "        self.encoder = nn.Sequential(\n",
    "            nn.Linear(input_dim, hidden_dim1),\n",
    "            nn.ReLU(),\n",
    "            nn.Linear(hidden_dim1, hidden_dim2),\n",
    "            nn.ReLU()\n",
    "        )\n",
    "        \n",
    "        self.decoder = nn.Sequential(\n",
    "            nn.Linear(hidden_dim2, hidden_dim1),\n",
    "            nn.ReLU(),\n",
    "            nn.Linear(hidden_dim1, input_dim),\n",
    "            nn.ReLU()\n",
    "        )\n",
    "    \n",
    "    def forward(self, x):\n",
    "        out = x.view(x.size(0), -1)\n",
    "        out = self.encoder(out)\n",
    "        out = self.decoder(out)\n",
    "        out = out.view(x.size())\n",
    "        return out\n",
    "    \n",
    "    def get_codes(self, x):\n",
    "        return self.encoder(x)"
   ]
  },
  {
   "cell_type": "code",
   "execution_count": 7,
   "id": "fbb78039",
   "metadata": {},
   "outputs": [],
   "source": [
    "def train(model, Loss, optimizer, num_epochs):\n",
    "    train_loss_arr = []\n",
    "    test_loss_arr = []\n",
    "    \n",
    "    best_test_loss = 9999999999\n",
    "    early_stop, early_stop_max = 0., 3.\n",
    "    \n",
    "    for epoch in range(num_epochs):\n",
    "        \n",
    "        epoch_loss = 0.\n",
    "        \n",
    "        for batch_X, _ in train_loader:\n",
    "            batch_X = batch_X.to(device)\n",
    "            optimizer.zero_grad()\n",
    "            \n",
    "            # Forward Pass \n",
    "            model.train()\n",
    "            outputs = model(batch_X)\n",
    "            train_loss = Loss(outputs, batch_X)\n",
    "            epoch_loss += train_loss.data\n",
    "            \n",
    "            # Backward and optimize\n",
    "            train_loss.backward()\n",
    "            optimizer.step()\n",
    "            \n",
    "        train_loss_arr.append(epoch_loss/len(train_loader.dataset))\n",
    "        \n",
    "        if epoch % 10 == 0:\n",
    "            model.eval()\n",
    "            test_loss = 0.\n",
    "            \n",
    "            for batch_X, _ in test_loader:\n",
    "                batch_X = batch_X.to(device)\n",
    "                \n",
    "                outputs = model(batch_X)\n",
    "                batch_loss = Loss(outputs, batch_X)\n",
    "                test_loss += batch_loss.data\n",
    "                \n",
    "            test_loss = test_loss \n",
    "            test_loss_arr.append(test_loss)\n",
    "            \n",
    "            if best_test_loss > test_loss : \n",
    "                best_test_loss = test_loss\n",
    "                early_stop = 0\n",
    "                \n",
    "                print('Epoch [{}/{}], Train Loss: {:.4f}, Test Loss: {:.4f} *'.format(epoch, num_epochs, epoch_loss, test_loss))\n",
    "            else:\n",
    "                early_stop += 1\n",
    "                print('Epoch [{}/{}], Train Loss: {:.4f}, Test Loss: {:.4f}'.format(epoch, num_epochs, epoch_loss, test_loss)) \n",
    "        \n",
    "        if early_stop >= early_stop_max : \n",
    "            break"
   ]
  },
  {
   "cell_type": "code",
   "execution_count": null,
   "id": "6ffeb631",
   "metadata": {},
   "outputs": [
    {
     "name": "stdout",
     "output_type": "stream",
     "text": [
      "Epoch [0/150], Train Loss: 6.0454, Test Loss: 0.7331 *\n"
     ]
    }
   ],
   "source": [
    "AE = AutoEncoder(28 * 28, 64, 32)\n",
    "AE_loss = nn.MSELoss()\n",
    "\n",
    "device = torch.device('cpu')\n",
    "AE = AE.to(device)\n",
    "\n",
    "learning_rate = 0.01\n",
    "num_epochs = 150\n",
    "\n",
    "AE_optimizer = optim.Adam(AE.parameters(), lr = learning_rate)\n",
    "\n",
    "\n",
    "train(AE, AE_loss, AE_optimizer, num_epochs)"
   ]
  },
  {
   "cell_type": "code",
   "execution_count": null,
   "id": "508b7310",
   "metadata": {},
   "outputs": [],
   "source": []
  }
 ],
 "metadata": {
  "kernelspec": {
   "display_name": "Python 3",
   "language": "python",
   "name": "python3"
  },
  "language_info": {
   "codemirror_mode": {
    "name": "ipython",
    "version": 3
   },
   "file_extension": ".py",
   "mimetype": "text/x-python",
   "name": "python",
   "nbconvert_exporter": "python",
   "pygments_lexer": "ipython3",
   "version": "3.8.8"
  }
 },
 "nbformat": 4,
 "nbformat_minor": 5
}
